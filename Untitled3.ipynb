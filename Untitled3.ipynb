{
 "cells": [
  {
   "cell_type": "code",
   "execution_count": null,
   "metadata": {},
   "outputs": [],
   "source": [
    "\n",
    "def find_companies_related_to_companies_via_founders(companies, db_connection=conn):\n",
    "#     пустой лист\n",
    "    frames = []\n",
    "#     цикл foreach компании в листе компаний\n",
    "    for company in companies:\n",
    "#         добавляем в список результат метода find_companies_by_name\n",
    "        frames.append(find_companies_by_name(company, db_connection))\n",
    "#     датафрейм пандас  (переменная дф -соединенный список из фреймов)\n",
    "    df = pd.concat(frames) # TODO remove duplicates\n",
    "#     возвращает резульат метода find_related_companies_by_founders- dictinary [компания, [основатель, компании]]\n",
    "    return find_related_companies_by_founders(df, db_connection)\n",
    "    \n",
    "def find_related_companies_by_founders(companies_dataframe, db_connection=conn):\n",
    "#     масссив из компаний - из листа берет значения\n",
    "    companies_array = companies_dataframe.values\n",
    "    \n",
    "    companies_list = list(map(find_companies_by_founders_string, companies_array))\n",
    "    data = {}\n",
    "    for i, company in enumerate(companies_array):\n",
    "        data[company[0]] = companies_list[i]\n",
    "    return data\n",
    "\n",
    "def find_companies_by_founders_string(company_with_founders, db_connection=conn):\n",
    "#     список из [компания,основатели] , разделяет 2-е элементы из  массива(основатели) по запятой и запихвает в founders_list\n",
    "    founders_list = company_with_founders[1].split(',')\n",
    "    #companies_list = list(map(find_companies_by_founder, founders_list))\n",
    "#     переменная дата - словарь\n",
    "    data = {}\n",
    "#     цикл foreach запихивает для каждого основателя список компаний\n",
    "    for i, founder in enumerate(founders_list):\n",
    "        data[founder] = find_companies_by_founder(founder, company_with_founders[0], db_connection)\n",
    "#         возвращает словарь, где ключ - основатель, значение - список компаний\n",
    "    return data\n",
    "\n",
    "def find_companies_by_founder(founder, nosearch, db_connection=conn):\n",
    "    df = pd.read_sql_query(\n",
    "    \"SELECT FullNameRu FROM Minjust2018 WHERE Founders LIKE '%\"+ founder +\"%' AND FullNameRu <> '\"+nosearch+\"' LIMIT 0, 10\",\n",
    "    db_connection)\n",
    "    return df.values.tolist()\n",
    "\n",
    "def find_companies_by_name(name, db_connection=conn):\n",
    "    df = pd.read_sql_query(\n",
    "    \"SELECT FullNameRu, Founders FROM Minjust2018 WHERE FullNameRu LIKE '%\"+name+\"%' LIMIT 0, 20\",\n",
    "    db_connection)\n",
    "    return df\n",
    "\n",
    "\n",
    "\n"
   ]
  }
 ],
 "metadata": {
  "kernelspec": {
   "display_name": "Python 3",
   "language": "python",
   "name": "python3"
  },
  "language_info": {
   "codemirror_mode": {
    "name": "ipython",
    "version": 3
   },
   "file_extension": ".py",
   "mimetype": "text/x-python",
   "name": "python",
   "nbconvert_exporter": "python",
   "pygments_lexer": "ipython3",
   "version": "3.6.5"
  }
 },
 "nbformat": 4,
 "nbformat_minor": 2
}
