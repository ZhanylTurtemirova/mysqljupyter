{
 "cells": [
  {
   "cell_type": "code",
   "execution_count": 1,
   "metadata": {},
   "outputs": [],
   "source": [
    "import json\n",
    "import pymysql\n",
    "from relatedcompaniesfounder import CompaniesSearcher "
   ]
  },
  {
   "cell_type": "code",
   "execution_count": 2,
   "metadata": {},
   "outputs": [
    {
     "name": "stdout",
     "output_type": "stream",
     "text": [
      "connection successful!\n"
     ]
    }
   ],
   "source": [
    "conn = pymysql.connect(\n",
    "    host='198.199.81.151',\n",
    "    port=3306,\n",
    "    user='zhanyl',\n",
    "    passwd='qwerty',\n",
    "    db='test',\n",
    "    charset='utf8mb4')\n",
    "print(\"connection successful!\")"
   ]
  },
  {
   "cell_type": "code",
   "execution_count": 3,
   "metadata": {},
   "outputs": [
    {
     "name": "stdout",
     "output_type": "stream",
     "text": [
      "{\n",
      "  \"Общественный фонд \\\"КООМАР МЕДИА\\\"\": {\n",
      "    \"Гапарова Галина Ивановна\": [\n",
      "      [\n",
      "        \"Общественное объединение \\\"ДЕТСКИЙ МЕДИА-ЦЕНТР\\\"\"\n",
      "      ]\n",
      "    ],\n",
      "    \" Тухватшин Ринат Рустамович\": []\n",
      "  },\n",
      "  \"ОсОО \\\"РТР-МЕДИКАЛ ПРОФИ\\\"\": {\n",
      "    \"Тухватшин Рустам\": [\n",
      "      [\n",
      "        \"Общественный фонд \\\"ЭЛ-КУРУ\\\"\"\n",
      "      ]\n",
      "    ]\n",
      "  },\n",
      "  \"ОсОО \\\"Medikal Profe-Gyldyz\\\" \\\"Медикал Профи-Жылдыз\\\"\": {\n",
      "    \"Айдаралиева Кубанычбек Рысбекович\": []\n",
      "  }\n",
      "}\n"
     ]
    }
   ],
   "source": [
    "cs=CompaniesSearcher(conn)\n",
    "companies = cs.find_companies_related_to_companies_via_founders([\"коомар\", \"медикал профи\"])\n",
    "\n",
    "print(json.dumps(companies, indent=2, ensure_ascii=False))"
   ]
  },
  {
   "cell_type": "code",
   "execution_count": null,
   "metadata": {},
   "outputs": [],
   "source": [
    "conn.close()\n",
    "print(\"Connection closed\")"
   ]
  }
 ],
 "metadata": {
  "kernelspec": {
   "display_name": "Python 3",
   "language": "python",
   "name": "python3"
  },
  "language_info": {
   "codemirror_mode": {
    "name": "ipython",
    "version": 3
   },
   "file_extension": ".py",
   "mimetype": "text/x-python",
   "name": "python",
   "nbconvert_exporter": "python",
   "pygments_lexer": "ipython3",
   "version": "3.6.5"
  }
 },
 "nbformat": 4,
 "nbformat_minor": 2
}
