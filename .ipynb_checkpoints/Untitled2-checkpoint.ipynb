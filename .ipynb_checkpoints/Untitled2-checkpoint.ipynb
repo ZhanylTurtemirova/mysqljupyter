{
 "cells": [
  {
   "cell_type": "code",
   "execution_count": 18,
   "metadata": {},
   "outputs": [
    {
     "name": "stdout",
     "output_type": "stream",
     "text": [
      "9\n",
      "18\n",
      "27\n",
      "36\n",
      "45\n",
      "54\n"
     ]
    }
   ],
   "source": [
    "def sinOfRadian(n):\n",
    "    return n*9\n",
    "\n",
    "numberList =[1,2,3,4,5,6]\n",
    "\n",
    "for n in numberList:\n",
    "    n2 = sinOfRadian(n)   \n",
    "    print(n2) "
   ]
  },
  {
   "cell_type": "code",
   "execution_count": 24,
   "metadata": {},
   "outputs": [
    {
     "name": "stdout",
     "output_type": "stream",
     "text": [
      "{'Kyrgyzstan': 'Bishkek', 'Turkey': 'Ankara', 'Russia': 'Moscow'}\n"
     ]
    }
   ],
   "source": [
    "country_list =[\"Kyrgyzstan\",\"Turkey\",\"Russia\"]\n",
    "capitals_list=[\"Bishkek\",\"Ankara\",\"Moscow\"]\n",
    "country_capital={}\n",
    "for i, country in enumerate (country_list):\n",
    "    country_capital[country]=capitals_list[i]    \n",
    "print(country_capital)\n",
    "    \n",
    "    \n",
    "    "
   ]
  },
  {
   "cell_type": "code",
   "execution_count": 20,
   "metadata": {},
   "outputs": [
    {
     "name": "stdout",
     "output_type": "stream",
     "text": [
      "connection successful!\n"
     ]
    }
   ],
   "source": [
    "import pymysql \n",
    "# библиотека для сиквела\n",
    "import pandas as pd \n",
    "# библиотека пандас\n",
    "import json\n",
    "# библиотека для использования жсон файлов\n",
    "# строка соединения\n",
    "conn = pymysql.connect( \n",
    "#   адрес хоста сервера\n",
    "    host='198.199.81.151', \n",
    "#     номер порта\n",
    "    port=3306,\n",
    "#      имя пользователя\n",
    "    user='zhanyl',\n",
    "#     пароль\n",
    "    password='qwerty',\n",
    "#      название базы данных\n",
    "    db='test',\n",
    "#     кодировка\n",
    "    charset='utf8mb4') \n",
    "# при успешной компиляции команд выше, т.е при успешном соединении, выводит \"connection successful!\"\n",
    "\n",
    "print(\"connection successful!\") \n"
   ]
  },
  {
   "cell_type": "code",
   "execution_count": null,
   "metadata": {},
   "outputs": [],
   "source": [
    "# ищем компании по основателям\n",
    "# метод принимает в себя список компаний, соединение по умолчанию conn\n",
    "def find_companies_related_to_companies_via_founders(companies, db_connection=conn):\n",
    "#     пустой список \n",
    "    frames = []\n",
    "#     цикл: для каждой компании в листе компаний \n",
    "    for company in companies:\n",
    "#         записывает в список frames  результат метода find_companies_by_name, принимающй в себя компанию и строку соедининия\n",
    "        frames.append(find_companies_by_name(company, db_connection))\n",
    "#     обьявляем переменную датафрейм  - экземпляр пандас, вызываем свойство concat(frames)- соединям frames- основатели\n",
    "    df = pd.concat(frames) # TODO remove duplicates\n",
    "#     возвращает результат метода find_related_companies_by_founders\n",
    "    return find_related_companies_by_founders(df, db_connection)\n",
    "\n"
   ]
  },
  {
   "cell_type": "code",
   "execution_count": null,
   "metadata": {},
   "outputs": [],
   "source": [
    "\n",
    "companies = find_companies_related_to_companies_via_founders([\"коомар\", \"медикал профи\"])\n"
   ]
  }
 ],
 "metadata": {
  "kernelspec": {
   "display_name": "Python 3",
   "language": "python",
   "name": "python3"
  },
  "language_info": {
   "codemirror_mode": {
    "name": "ipython",
    "version": 3
   },
   "file_extension": ".py",
   "mimetype": "text/x-python",
   "name": "python",
   "nbconvert_exporter": "python",
   "pygments_lexer": "ipython3",
   "version": "3.6.5"
  }
 },
 "nbformat": 4,
 "nbformat_minor": 2
}
