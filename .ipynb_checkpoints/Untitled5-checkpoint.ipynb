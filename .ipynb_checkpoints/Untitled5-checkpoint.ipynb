{
 "cells": [
  {
   "cell_type": "code",
   "execution_count": 19,
   "metadata": {},
   "outputs": [
    {
     "ename": "IndentationError",
     "evalue": "unexpected indent (<ipython-input-19-341d5691d7e1>, line 3)",
     "output_type": "error",
     "traceback": [
      "\u001b[1;36m  File \u001b[1;32m\"<ipython-input-19-341d5691d7e1>\"\u001b[1;36m, line \u001b[1;32m3\u001b[0m\n\u001b[1;33m    unique_list = []\u001b[0m\n\u001b[1;37m    ^\u001b[0m\n\u001b[1;31mIndentationError\u001b[0m\u001b[1;31m:\u001b[0m unexpected indent\n"
     ]
    }
   ],
   "source": [
    "def CountWordsInString(string):\n",
    "    listString = string.split() \n",
    "      unique_list = []\n",
    "    for x in listString:\n",
    "        if x not in unique_list:\n",
    "            unique_list.append(x)\n",
    "    for word in unique_list:\n",
    "        count =0\n",
    "        flag=True\n",
    "        start=0\n",
    "        while flag:\n",
    "            a = string.find(word,start)\n",
    "\n",
    "            if a==-1:        \n",
    "                flag=False\n",
    "            else:               \n",
    "                count+=1        \n",
    "                start=a+1 \n",
    "        count2 =str(count)\n",
    "            \n",
    "        print(word+\":\"+count2)\n",
    "       \n",
    "\n",
    "    "
   ]
  },
  {
   "cell_type": "code",
   "execution_count": 18,
   "metadata": {},
   "outputs": [
    {
     "name": "stdout",
     "output_type": "stream",
     "text": [
      "Это:1\n",
      "пробный:1\n",
      "текст:3\n",
      "текст:3\n",
      "текст:3\n"
     ]
    }
   ],
   "source": [
    "CountWordsInString(\"Это пробный текст текст текст\")"
   ]
  },
  {
   "cell_type": "code",
   "execution_count": 24,
   "metadata": {},
   "outputs": [],
   "source": [
    "def countWords(string):\n",
    "    word_count={}\n",
    "    word_list= string.split()\n",
    "    for word in word_list:\n",
    "        if word in word_count:\n",
    "            word_count[word]= word_count[word]+1\n",
    "        else:\n",
    "            word_count[word]=1\n",
    "    return word_count\n",
    "    "
   ]
  },
  {
   "cell_type": "code",
   "execution_count": 25,
   "metadata": {},
   "outputs": [
    {
     "name": "stdout",
     "output_type": "stream",
     "text": [
      "{'Это': 1, 'пробный': 1, 'текст': 3}\n"
     ]
    }
   ],
   "source": [
    "print (countWords(\"Это пробный текст текст текст\"))"
   ]
  },
  {
   "cell_type": "code",
   "execution_count": 28,
   "metadata": {},
   "outputs": [
    {
     "ename": "TypeError",
     "evalue": "'builtin_function_or_method' object is not iterable",
     "output_type": "error",
     "traceback": [
      "\u001b[1;31m---------------------------------------------------------------------------\u001b[0m",
      "\u001b[1;31mTypeError\u001b[0m                                 Traceback (most recent call last)",
      "\u001b[1;32m<ipython-input-28-2eecf7372c71>\u001b[0m in \u001b[0;36m<module>\u001b[1;34m()\u001b[0m\n\u001b[0;32m      3\u001b[0m \u001b[0mstring\u001b[0m \u001b[1;33m=\u001b[0m\u001b[1;34m\"dfgd sdfgs a f a a\"\u001b[0m\u001b[1;33m\u001b[0m\u001b[0m\n\u001b[0;32m      4\u001b[0m \u001b[0mlistString\u001b[0m\u001b[1;33m=\u001b[0m\u001b[0mstring\u001b[0m\u001b[1;33m.\u001b[0m\u001b[0msplit\u001b[0m\u001b[1;33m\u001b[0m\u001b[0m\n\u001b[1;32m----> 5\u001b[1;33m \u001b[1;32mfor\u001b[0m \u001b[0mx\u001b[0m \u001b[1;32min\u001b[0m \u001b[0mlistString\u001b[0m\u001b[1;33m:\u001b[0m\u001b[1;33m\u001b[0m\u001b[0m\n\u001b[0m\u001b[0;32m      6\u001b[0m     \u001b[0mn\u001b[0m \u001b[1;33m=\u001b[0m\u001b[0mre\u001b[0m\u001b[1;33m.\u001b[0m\u001b[0mfindall\u001b[0m\u001b[1;33m(\u001b[0m\u001b[0mx\u001b[0m\u001b[1;33m,\u001b[0m \u001b[0mstring\u001b[0m\u001b[1;33m)\u001b[0m\u001b[1;33m\u001b[0m\u001b[0m\n\u001b[0;32m      7\u001b[0m     \u001b[0mprint\u001b[0m \u001b[1;33m(\u001b[0m\u001b[0mn\u001b[0m\u001b[1;33m)\u001b[0m\u001b[1;33m\u001b[0m\u001b[0m\n",
      "\u001b[1;31mTypeError\u001b[0m: 'builtin_function_or_method' object is not iterable"
     ]
    }
   ],
   "source": [
    "import re\n",
    "\n",
    "string =\"dfgd sdfgs a f a a\"\n",
    "listString=string.split\n",
    "for x in listString:\n",
    "    n =re.findall(x, string)\n",
    "    print (n)"
   ]
  },
  {
   "cell_type": "code",
   "execution_count": 47,
   "metadata": {},
   "outputs": [
    {
     "name": "stdout",
     "output_type": "stream",
     "text": [
      "Counter({'т': 7, ' ': 4, 'е': 3, 'к': 3, 'с': 3, 'о': 2, 'Э': 1, 'п': 1, 'р': 1, 'б': 1, 'н': 1, 'ы': 1, 'й': 1})\n"
     ]
    }
   ],
   "source": [
    "from collections import Counter\n",
    "def advanced_count(text):\n",
    "    return Counter(text)\n",
    "print(Counter(\"Это пробный текст текст текст\"))"
   ]
  },
  {
   "cell_type": "code",
   "execution_count": 46,
   "metadata": {},
   "outputs": [
    {
     "name": "stdout",
     "output_type": "stream",
     "text": [
      "Counter({'т': 7, ' ': 4, 'е': 3, 'к': 3, 'с': 3, 'о': 2, 'Э': 1, 'п': 1, 'р': 1, 'б': 1, 'н': 1, 'ы': 1, 'й': 1})\n"
     ]
    }
   ],
   "source": []
  },
  {
   "cell_type": "code",
   "execution_count": null,
   "metadata": {},
   "outputs": [],
   "source": []
  }
 ],
 "metadata": {
  "kernelspec": {
   "display_name": "Python 3",
   "language": "python",
   "name": "python3"
  },
  "language_info": {
   "codemirror_mode": {
    "name": "ipython",
    "version": 3
   },
   "file_extension": ".py",
   "mimetype": "text/x-python",
   "name": "python",
   "nbconvert_exporter": "python",
   "pygments_lexer": "ipython3",
   "version": "3.6.5"
  }
 },
 "nbformat": 4,
 "nbformat_minor": 2
}
