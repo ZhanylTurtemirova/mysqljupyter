{
 "cells": [
  {
   "cell_type": "markdown",
   "metadata": {},
   "source": [
    "блок ниже показывает как подключаться к базе данных "
   ]
  },
  {
   "cell_type": "code",
   "execution_count": 2,
   "metadata": {},
   "outputs": [
    {
     "name": "stdout",
     "output_type": "stream",
     "text": [
      "connection successful!\n"
     ]
    }
   ],
   "source": [
    "import pymysql \n",
    "# библиотека для сиквела\n",
    "import pandas as pd \n",
    "# библиотека пандас\n",
    "import json\n",
    "# библиотека для использования жсон файлов\n",
    "# строка соединения\n",
    "conn = pymysql.connect( \n",
    "#   адрес хоста сервера\n",
    "    host='198.199.81.151', \n",
    "#     номер порта\n",
    "    port=3306,\n",
    "#      имя пользователя\n",
    "    user='zhanyl',\n",
    "#     пароль\n",
    "    password='qwerty',\n",
    "#      название базы данных\n",
    "    db='test',\n",
    "#     кодировка\n",
    "    charset='utf8mb4') \n",
    "# при успешной компиляции команд выше, т.е при успешном соединении, выводит \"connection successful!\"\n",
    "\n",
    "print(\"connection successful!\") \n"
   ]
  },
  {
   "cell_type": "code",
   "execution_count": null,
   "metadata": {},
   "outputs": [],
   "source": [
    "блок ниже  вызывает сиквел команду, которая выбирает название юр лица, и основателей , где основатель =Тухватшин"
   ]
  },
  {
   "cell_type": "code",
   "execution_count": null,
   "metadata": {},
   "outputs": [],
   "source": [
    "# свойство pd - пандас вызывать сиквел команду\n",
    "df = pd.read_sql_query(\n",
    "#  выбирает 5 название юр лица, и основателей , где основатель =Тухватшин   \n",
    "    \"SELECT FullNameRu, Founders FROM Minjust2018 WHERE Founders LIKE '%Тухватшин%' LIMIT 0, 5\",\n",
    "#     соединение\n",
    "    conn)\n",
    "# оформляет в таблицу первые 30 результатов\n",
    "df.head(30)\n"
   ]
  },
  {
   "cell_type": "code",
   "execution_count": null,
   "metadata": {},
   "outputs": [],
   "source": [
    "закрытие соединия "
   ]
  },
  {
   "cell_type": "code",
   "execution_count": null,
   "metadata": {},
   "outputs": [],
   "source": [
    "# закрыть соедине\n",
    "conn.close()\n",
    "# после ззакрытия вывести Connection closed!\n",
    "print(\"Connection closed!\")\n"
   ]
  }
 ],
 "metadata": {
  "kernelspec": {
   "display_name": "Python 3",
   "language": "python",
   "name": "python3"
  },
  "language_info": {
   "codemirror_mode": {
    "name": "ipython",
    "version": 3
   },
   "file_extension": ".py",
   "mimetype": "text/x-python",
   "name": "python",
   "nbconvert_exporter": "python",
   "pygments_lexer": "ipython3",
   "version": "3.6.5"
  }
 },
 "nbformat": 4,
 "nbformat_minor": 2
}
