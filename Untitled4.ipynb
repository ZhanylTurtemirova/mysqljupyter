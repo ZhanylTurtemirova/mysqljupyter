{
 "cells": [
  {
   "cell_type": "code",
   "execution_count": 16,
   "metadata": {},
   "outputs": [
    {
     "name": "stdout",
     "output_type": "stream",
     "text": [
      "connection successful!\n"
     ]
    }
   ],
   "source": [
    "import pymysql \n",
    "# библиотека для сиквела\n",
    "import pandas as pd \n",
    "# библиотека пандас\n",
    "import json\n",
    "# библиотека для использования жсон файлов\n",
    "# строка соединения\n",
    "conn = pymysql.connect( \n",
    "#   адрес хоста сервера\n",
    "    host='198.199.81.151', \n",
    "#     номер порта\n",
    "    port=3306,\n",
    "#      имя пользователя\n",
    "    user='zhanyl',\n",
    "#     пароль\n",
    "    password='qwerty',\n",
    "#      название базы данных\n",
    "    db='test',\n",
    "#     кодировка\n",
    "    charset='utf8mb4') \n",
    "# при успешной компиляции команд выше, т.е при успешном соединении, выводит \"connection successful!\"\n",
    "\n",
    "print(\"connection successful!\") \n"
   ]
  },
  {
   "cell_type": "code",
   "execution_count": 3,
   "metadata": {
    "scrolled": true
   },
   "outputs": [
    {
     "ename": "NameError",
     "evalue": "name 'Тухватшин' is not defined",
     "output_type": "error",
     "traceback": [
      "\u001b[1;31m---------------------------------------------------------------------------\u001b[0m",
      "\u001b[1;31mNameError\u001b[0m                                 Traceback (most recent call last)",
      "\u001b[1;32m<ipython-input-3-d996a357cce6>\u001b[0m in \u001b[0;36m<module>\u001b[1;34m()\u001b[0m\n\u001b[0;32m     24\u001b[0m     \u001b[0mprint\u001b[0m\u001b[1;33m(\u001b[0m\u001b[0mframes\u001b[0m\u001b[1;33m)\u001b[0m\u001b[1;33m\u001b[0m\u001b[0m\n\u001b[0;32m     25\u001b[0m \u001b[1;33m\u001b[0m\u001b[0m\n\u001b[1;32m---> 26\u001b[1;33m \u001b[0mFindRelatedFoundersToFounder\u001b[0m\u001b[1;33m(\u001b[0m\u001b[0mТухватшин\u001b[0m\u001b[1;33m)\u001b[0m\u001b[1;33m\u001b[0m\u001b[0m\n\u001b[0m",
      "\u001b[1;31mNameError\u001b[0m: name 'Тухватшин' is not defined"
     ]
    }
   ],
   "source": [
    "def find_founders_related_to_founders_via_companies(founders, db_connection=conn):\n",
    "    frames = []\n",
    "    for founder in founders:\n",
    "        frames.append(find_founders_by_name(company, db_connection))\n",
    "    df = pd.concat(frames) # TODO remove duplicates\n",
    "    return find_related_companies_by_founders(df, db_connection)\n",
    "    \n",
    "def find_related_companies_by_founders(companies_dataframe, db_connection=conn):\n",
    "    companies_array = companies_dataframe.values\n",
    "    companies_list = list(map(find_companies_by_founders_string, companies_array))\n",
    "    data = {}\n",
    "    for i, company in enumerate(companies_array):\n",
    "        data[company[0]] = companies_list[i]\n",
    "    return data\n",
    "\n",
    "def find_companies_by_founders_string(company_with_founders, db_connection=conn):\n",
    "    founders_list = company_with_founders[1].split(',')\n",
    "    #companies_list = list(map(find_companies_by_founder, founders_list))\n",
    "    data = {}\n",
    "    for i, founder in enumerate(founders_list):\n",
    "        data[founder] = find_companies_by_founder(founder, company_with_founders[0], db_connection)\n",
    "    return data\n",
    "\n",
    "def find_founders_by_company(company,db_connection=conn):\n",
    "    df = pd.read_sql_query(\n",
    "    \"SELECT Founders FROM Minjust2018 WHERE FullNameRu LIKE '%\"+ company +\"%' LIMIT 0, 10\",\n",
    "    db_connection)\n",
    "    return df.values.tolist()\n",
    "\n",
    "def find_companies_by_name(name, db_connection=conn):\n",
    "    df = pd.read_sql_query(\n",
    "    \"SELECT FullNameRu, Founders FROM Minjust2018 WHERE FullNameRu LIKE '%\"+name+\"%' LIMIT 0, 20\",\n",
    "    db_connection)\n",
    "    return df\n",
    "\n"
   ]
  },
  {
   "cell_type": "code",
   "execution_count": null,
   "metadata": {},
   "outputs": [],
   "source": []
  }
 ],
 "metadata": {
  "kernelspec": {
   "display_name": "Python 3",
   "language": "python",
   "name": "python3"
  },
  "language_info": {
   "codemirror_mode": {
    "name": "ipython",
    "version": 3
   },
   "file_extension": ".py",
   "mimetype": "text/x-python",
   "name": "python",
   "nbconvert_exporter": "python",
   "pygments_lexer": "ipython3",
   "version": "3.6.5"
  }
 },
 "nbformat": 4,
 "nbformat_minor": 2
}
