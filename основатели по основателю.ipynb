{
 "cells": [
  {
   "cell_type": "code",
   "execution_count": 1,
   "metadata": {},
   "outputs": [
    {
     "name": "stdout",
     "output_type": "stream",
     "text": [
      "connection successful!\n"
     ]
    }
   ],
   "source": [
    "import pymysql\n",
    "import pandas as pd\n",
    "import json\n",
    "\n",
    "conn = pymysql.connect(\n",
    "    host='198.199.81.151',\n",
    "    port=3306,\n",
    "    user='zhanyl',\n",
    "    passwd='qwerty',\n",
    "    db='test',\n",
    "    charset='utf8mb4')\n",
    "print(\"connection successful!\")"
   ]
  },
  {
   "cell_type": "code",
   "execution_count": 5,
   "metadata": {},
   "outputs": [],
   "source": [
    "def findCompaniesByFounder(name, db_connection=conn):\n",
    "    df = pd.read_sql_query(\n",
    "    \"SELECT  FullNameRu FROM Minjust2018 WHERE Founders LIKE '%\"+name+\"%' LIMIT 0, 20\",\n",
    "    db_connection)\n",
    "    return df\n",
    "\n",
    "def find_foundersList_by_company(name, db_connection=conn):\n",
    "    df = pd.read_sql_query(\n",
    "    \"SELECT Founders FROM Minjust2018 WHERE FullNameRu LIKE '%\"+name+\"%'\",\n",
    "    db_connection)\n",
    "    return df\n",
    "\n",
    "\n",
    "def find_related_founders_by_companies(companies, db_connection=conn):\n",
    "    companies_arrayList=[]\n",
    "    g= (list(companies.values))\n",
    "    for t in g:\n",
    "        companies_arrayList.append(t[0])\n",
    "    companyList=[]\n",
    "    for c in companies_arrayList:\n",
    "        companyList.append(c[0])\n",
    " \n",
    "    founders_arrayList=[]\n",
    "    foundersList=[]\n",
    "    founders_separatedList=[]\n",
    "    for c in companyList:\n",
    "        founders_arrayList.append((find_foundersList_by_company(c)).values[0])\n",
    "    for f in founders_arrayList:\n",
    "         foundersList.append(f[0].split(','))\n",
    "    for f in foundersList:\n",
    "        for x in f:\n",
    "            founders_separatedList.append(x[0])\n",
    "    return founders_separatedList\n",
    "\n",
    "def find_related_companies(name, db_connection=conn):\n",
    "    a=findCompaniesByFounder(name, db_connection=conn)\n",
    "    d=[]\n",
    "    g= (list(a.values))\n",
    "    for t in g:\n",
    "        d.append(t[0])\n",
    "    return d\n",
    "\n",
    "def find_related_founders(name, db_connection=conn):\n",
    "    companies=findCompaniesByFounder(name)\n",
    "    founders_list=[]\n",
    "    d=[]\n",
    "    p=[]\n",
    "    f1=[]\n",
    "    f2=[]\n",
    "    g= (list(companies.values))\n",
    "    for t in g:\n",
    "        d.append(t[0])\n",
    "    for c in d:\n",
    "        p.append((find_foundersList_by_company(c)).values[0])\n",
    "    for x in p:\n",
    "        f1.append(x[0].split(','))\n",
    "   \n",
    "    for f in f1:\n",
    "        for q in f:\n",
    "            f2.append(q)\n",
    "    data={}\n",
    "    data[name]=f2\n",
    "    return data\n",
    "    \n"
   ]
  },
  {
   "cell_type": "code",
   "execution_count": 19,
   "metadata": {},
   "outputs": [
    {
     "name": "stdout",
     "output_type": "stream",
     "text": [
      "dict_values([['Куйкеев Талантбек Асылбекович', ' Рысалиев Чолпонбай Джумаканович', 'Султанов Рустам Султанович', ' Рысалиев Курманбек Кадытович', 'Рысалиев Тахир Зарлыкович', ' Мусаев Оболбек Бекбатырович', 'Рысалиев Эмильбек Жакшылыкович', 'Рыскулов Жалил Рысалиевич', ' Жамалдинов Советбек', ' Малаева Венера Ыймангазиевна', 'Таштанбеков Ниязалы', ' Эсеналиев Токтобай', ' Жакыпбеков Тологон', ' Хайдаров Сыдыкалы', ' Мадияров Эркиналы', ' Осконов Абдисапар', ' Алымкулов Абдижапар', ' Эргешалиев Акматжан', ' Бийназаров Турмамат', ' Душобаев Суйутбек', ' Рысалиев Абаскалы', ' Мырзаканов Абдыкалык', ' Ашырбаев Омуралы', ' Эсеналиев Женишбек', 'Рысалиева Эркеаим Аскаровна', 'Кудакеев Рыспек Солтобаевич', ' Качкынбаев Муратбек Рысалиевич', ' Кенжебаева Айсалкын', ' Алтымышов Уланбек Джумабекович', ' Ташматов Таалайбек Мамырович', ' Эсеналиева Венера Косоровна', ' Качкыналиев Батыркул ', ' Мамбеталиева Чолпон Сакимбаевна', ' Кутманова Жакин Абдыевна', ' Камбаралиев Асанбек Жолдошбекович', 'Рысалиев Мирлан Зарылбекович', 'Сарманбеков Нурлан Джанышевич', ' Рысалиев Курманбек Кадырович', 'Эркимбаев Бахтияр Жантаевич (вышел из состава учредителей)', ' Асейинов Медер Мукунович', ' Рысалиев Айбек Омурзакович', ' Эгембаев Султан Аскарбекович', 'Рысалиев Кылычбек Сатарович', ' Сапаралиев Нурланбек Доолотбекович', 'Самудинов Бердибек', ' Сулайманова Рапия', ' Самудинов Кубан', ' Сулайманов Бактыбек', ' Самудинов Каныбек', ' Арунов Кочкон', ' Арунов Айылчы', ' Казаков Султан', ' Умоталиев Бокин', ' Келдибеков Темиркул', ' Рыспеков Арун', ' Рыспеков Толок', ' Бообеков Дайырбек', ' Тологонов Кенешбек', ' Тологонов Керимбек', ' Ашыралиев Кемел', ' Болотов Бакир', ' Сейитназаров Байыш', ' Рысалиев Борбушалы', ' Сыйналов Нурсейит', ' Озбеков Зарылбек', ' Абдыкадыров Жуманазир', ' Осмонов Мойнок', ' Аалиев Карагул', ' Иткулакова Дарика', ' Чотоев Сталбек', ' Токтобеков Акматбек', ' Исакулов Темирбек', ' Исакулов Аралбек', ' Нуркожоев Тургуналы', ' Бейшенбеков Азис', ' Сагалиев Анарбек', ' Татыбеков Абдрахман', ' Чотоев Сагынбек', 'Бегалиев Раустам Айтпекович', ' Рысалиева Карылгач Джумакадыровна', ' Насырова Акийнай Исаевна', ' Макитов Азнур Азретович', 'Рыскулов Жалил Рысалиевич', ' Алнеами Хасан Салем Хасан Салем Альшерхан', '\\xa0Рысалиева Какен', ' Абдракманов Сатыбалды Кубатбекович', ' \\xa0Асаналиева Бактыгуль Абдылдаевна', 'Рысалиев Табылды Карымбаевич', ' Медеров Талант Мелисович', ' Субанов Мырзакан Усурканович', 'Рысалиев Эмильбек Жакшылыкович', ' Дубин Абдульгани Ахмед', 'Рысалиев Тахир Зарлыкович', 'Рысалиев Эмильбек Кадырович']])\n",
      "[' Кутманова Жакин Абдыевна', ' Абдыкадыров Жуманазир']\n"
     ]
    }
   ],
   "source": [
    "# founders = find_founders_related_to_founders_via_founders([\"Болотоканов\", \"Рысалиев\"])\n",
    "\n",
    "# print(json.dumps(founders, indent=2, ensure_ascii=False))\n",
    "a=findCompaniesByFounder(\"Рысалиев\")\n",
    "d=[]\n",
    "g= (list(a.values))\n",
    "for t in g:\n",
    "    d.append(t[0])\n",
    "\n",
    "p=[]\n",
    "f1=[]\n",
    "f2=[]\n",
    "f3=[]\n",
    "f4=[]\n",
    "data={}\n",
    "for c in d:  \n",
    "  \n",
    "    p.append((find_foundersList_by_company(c)).values[0])\n",
    "#     data[c]=p[0].split(',')\n",
    "\n",
    "\n",
    "# print(data)\n",
    "for x in p:\n",
    "    f1.append(x[0].split(','))\n",
    "   \n",
    "   \n",
    "for f in f1:\n",
    "    for q in f:\n",
    "        f2.append(q)\n",
    "\n",
    "data={}\n",
    "data[\"Рысалиев\"]=f2\n",
    "print (data.values())\n",
    "\n",
    "#print(f2)\n",
    "k= data.values()\n",
    "#print(find_related_founders(\"Рысалиев\"))\n",
    "for r in f2:\n",
    "    count =1\n",
    "    for i, u in enumerate(f2):\n",
    "        if f2[i]==u :\n",
    "            count+=1\n",
    "        if count >1:\n",
    "            f2.remove(u)\n",
    "print(f2)\n"
   ]
  },
  {
   "cell_type": "code",
   "execution_count": null,
   "metadata": {},
   "outputs": [],
   "source": [
    "print(find_related_founders(\"Рысалиев\"))"
   ]
  },
  {
   "cell_type": "code",
   "execution_count": null,
   "metadata": {},
   "outputs": [],
   "source": []
  }
 ],
 "metadata": {
  "kernelspec": {
   "display_name": "Python 3",
   "language": "python",
   "name": "python3"
  },
  "language_info": {
   "codemirror_mode": {
    "name": "ipython",
    "version": 3
   },
   "file_extension": ".py",
   "mimetype": "text/x-python",
   "name": "python",
   "nbconvert_exporter": "python",
   "pygments_lexer": "ipython3",
   "version": "3.6.5"
  }
 },
 "nbformat": 4,
 "nbformat_minor": 2
}
