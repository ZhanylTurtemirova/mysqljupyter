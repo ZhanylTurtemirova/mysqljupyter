{
 "cells": [
  {
   "cell_type": "code",
   "execution_count": 1,
   "metadata": {},
   "outputs": [
    {
     "name": "stdout",
     "output_type": "stream",
     "text": [
      "connection successful!\n"
     ]
    }
   ],
   "source": [
    "import pymysql\n",
    "import pandas as pd\n",
    "\n",
    "conn = pymysql.connect(\n",
    "    host='198.199.81.151',\n",
    "    port=3306,\n",
    "    user='zhanyl',\n",
    "    passwd='qwerty',\n",
    "    db='test',\n",
    "    charset='utf8mb4')\n",
    "print(\"connection successful!\")\n"
   ]
  },
  {
   "cell_type": "code",
   "execution_count": 77,
   "metadata": {},
   "outputs": [
    {
     "ename": "IndexError",
     "evalue": "single positional indexer is out-of-bounds",
     "output_type": "error",
     "traceback": [
      "\u001b[1;31m---------------------------------------------------------------------------\u001b[0m",
      "\u001b[1;31mIndexError\u001b[0m                                Traceback (most recent call last)",
      "\u001b[1;32m<ipython-input-77-f077e6f776a8>\u001b[0m in \u001b[0;36m<module>\u001b[1;34m()\u001b[0m\n\u001b[0;32m     18\u001b[0m    \u001b[1;32mreturn\u001b[0m \u001b[0mdf2\u001b[0m\u001b[1;33m\u001b[0m\u001b[0m\n\u001b[0;32m     19\u001b[0m \u001b[1;33m\u001b[0m\u001b[0m\n\u001b[1;32m---> 20\u001b[1;33m \u001b[0mprint\u001b[0m\u001b[1;33m(\u001b[0m\u001b[0mfind_related_companies_by_founders\u001b[0m\u001b[1;33m(\u001b[0m\u001b[0mdf2\u001b[0m\u001b[1;33m,\u001b[0m\u001b[0mconn\u001b[0m\u001b[1;33m)\u001b[0m\u001b[1;33m)\u001b[0m\u001b[1;33m\u001b[0m\u001b[0m\n\u001b[0m\u001b[0;32m     21\u001b[0m \u001b[1;33m\u001b[0m\u001b[0m\n\u001b[0;32m     22\u001b[0m \u001b[1;33m\u001b[0m\u001b[0m\n",
      "\u001b[1;32m<ipython-input-77-f077e6f776a8>\u001b[0m in \u001b[0;36mfind_related_companies_by_founders\u001b[1;34m(companies_df, db_conn)\u001b[0m\n\u001b[0;32m      3\u001b[0m \u001b[1;33m\u001b[0m\u001b[0m\n\u001b[0;32m      4\u001b[0m \u001b[1;32mdef\u001b[0m \u001b[0mfind_related_companies_by_founders\u001b[0m\u001b[1;33m(\u001b[0m\u001b[0mcompanies_df\u001b[0m\u001b[1;33m,\u001b[0m \u001b[0mdb_conn\u001b[0m\u001b[1;33m)\u001b[0m\u001b[1;33m:\u001b[0m\u001b[1;33m\u001b[0m\u001b[0m\n\u001b[1;32m----> 5\u001b[1;33m    \u001b[0mfounders\u001b[0m\u001b[1;33m=\u001b[0m\u001b[0mcompanies_df\u001b[0m\u001b[1;33m.\u001b[0m\u001b[0miloc\u001b[0m\u001b[1;33m[\u001b[0m\u001b[1;33m:\u001b[0m\u001b[1;33m,\u001b[0m\u001b[1;36m1\u001b[0m\u001b[1;33m]\u001b[0m\u001b[1;33m\u001b[0m\u001b[0m\n\u001b[0m\u001b[0;32m      6\u001b[0m    \u001b[0mfounders_list\u001b[0m\u001b[1;33m=\u001b[0m\u001b[0mfounders\u001b[0m\u001b[1;33m.\u001b[0m\u001b[0mvalues\u001b[0m\u001b[1;33m.\u001b[0m\u001b[0mtoList\u001b[0m\u001b[1;33m(\u001b[0m\u001b[1;33m)\u001b[0m\u001b[1;33m\u001b[0m\u001b[0m\n\u001b[0;32m      7\u001b[0m    \u001b[0mcompaniesList\u001b[0m\u001b[1;33m=\u001b[0m\u001b[0mlist\u001b[0m\u001b[1;33m(\u001b[0m\u001b[0mmap\u001b[0m\u001b[1;33m(\u001b[0m\u001b[0mfind_companies_by_founders_string\u001b[0m\u001b[1;33m,\u001b[0m \u001b[0mfounders_list\u001b[0m\u001b[1;33m)\u001b[0m\u001b[1;33m)\u001b[0m\u001b[1;33m\u001b[0m\u001b[0m\n",
      "\u001b[1;32mD:\\miniconda\\envs\\mysqljypiter\\lib\\site-packages\\pandas\\core\\indexing.py\u001b[0m in \u001b[0;36m__getitem__\u001b[1;34m(self, key)\u001b[0m\n\u001b[0;32m   1470\u001b[0m             \u001b[1;32mexcept\u001b[0m \u001b[1;33m(\u001b[0m\u001b[0mKeyError\u001b[0m\u001b[1;33m,\u001b[0m \u001b[0mIndexError\u001b[0m\u001b[1;33m)\u001b[0m\u001b[1;33m:\u001b[0m\u001b[1;33m\u001b[0m\u001b[0m\n\u001b[0;32m   1471\u001b[0m                 \u001b[1;32mpass\u001b[0m\u001b[1;33m\u001b[0m\u001b[0m\n\u001b[1;32m-> 1472\u001b[1;33m             \u001b[1;32mreturn\u001b[0m \u001b[0mself\u001b[0m\u001b[1;33m.\u001b[0m\u001b[0m_getitem_tuple\u001b[0m\u001b[1;33m(\u001b[0m\u001b[0mkey\u001b[0m\u001b[1;33m)\u001b[0m\u001b[1;33m\u001b[0m\u001b[0m\n\u001b[0m\u001b[0;32m   1473\u001b[0m         \u001b[1;32melse\u001b[0m\u001b[1;33m:\u001b[0m\u001b[1;33m\u001b[0m\u001b[0m\n\u001b[0;32m   1474\u001b[0m             \u001b[1;31m# we by definition only have the 0th axis\u001b[0m\u001b[1;33m\u001b[0m\u001b[1;33m\u001b[0m\u001b[0m\n",
      "\u001b[1;32mD:\\miniconda\\envs\\mysqljypiter\\lib\\site-packages\\pandas\\core\\indexing.py\u001b[0m in \u001b[0;36m_getitem_tuple\u001b[1;34m(self, tup)\u001b[0m\n\u001b[0;32m   2011\u001b[0m     \u001b[1;32mdef\u001b[0m \u001b[0m_getitem_tuple\u001b[0m\u001b[1;33m(\u001b[0m\u001b[0mself\u001b[0m\u001b[1;33m,\u001b[0m \u001b[0mtup\u001b[0m\u001b[1;33m)\u001b[0m\u001b[1;33m:\u001b[0m\u001b[1;33m\u001b[0m\u001b[0m\n\u001b[0;32m   2012\u001b[0m \u001b[1;33m\u001b[0m\u001b[0m\n\u001b[1;32m-> 2013\u001b[1;33m         \u001b[0mself\u001b[0m\u001b[1;33m.\u001b[0m\u001b[0m_has_valid_tuple\u001b[0m\u001b[1;33m(\u001b[0m\u001b[0mtup\u001b[0m\u001b[1;33m)\u001b[0m\u001b[1;33m\u001b[0m\u001b[0m\n\u001b[0m\u001b[0;32m   2014\u001b[0m         \u001b[1;32mtry\u001b[0m\u001b[1;33m:\u001b[0m\u001b[1;33m\u001b[0m\u001b[0m\n\u001b[0;32m   2015\u001b[0m             \u001b[1;32mreturn\u001b[0m \u001b[0mself\u001b[0m\u001b[1;33m.\u001b[0m\u001b[0m_getitem_lowerdim\u001b[0m\u001b[1;33m(\u001b[0m\u001b[0mtup\u001b[0m\u001b[1;33m)\u001b[0m\u001b[1;33m\u001b[0m\u001b[0m\n",
      "\u001b[1;32mD:\\miniconda\\envs\\mysqljypiter\\lib\\site-packages\\pandas\\core\\indexing.py\u001b[0m in \u001b[0;36m_has_valid_tuple\u001b[1;34m(self, key)\u001b[0m\n\u001b[0;32m    220\u001b[0m                 \u001b[1;32mraise\u001b[0m \u001b[0mIndexingError\u001b[0m\u001b[1;33m(\u001b[0m\u001b[1;34m'Too many indexers'\u001b[0m\u001b[1;33m)\u001b[0m\u001b[1;33m\u001b[0m\u001b[0m\n\u001b[0;32m    221\u001b[0m             \u001b[1;32mtry\u001b[0m\u001b[1;33m:\u001b[0m\u001b[1;33m\u001b[0m\u001b[0m\n\u001b[1;32m--> 222\u001b[1;33m                 \u001b[0mself\u001b[0m\u001b[1;33m.\u001b[0m\u001b[0m_validate_key\u001b[0m\u001b[1;33m(\u001b[0m\u001b[0mk\u001b[0m\u001b[1;33m,\u001b[0m \u001b[0mi\u001b[0m\u001b[1;33m)\u001b[0m\u001b[1;33m\u001b[0m\u001b[0m\n\u001b[0m\u001b[0;32m    223\u001b[0m             \u001b[1;32mexcept\u001b[0m \u001b[0mValueError\u001b[0m\u001b[1;33m:\u001b[0m\u001b[1;33m\u001b[0m\u001b[0m\n\u001b[0;32m    224\u001b[0m                 raise ValueError(\"Location based indexing can only have \"\n",
      "\u001b[1;32mD:\\miniconda\\envs\\mysqljypiter\\lib\\site-packages\\pandas\\core\\indexing.py\u001b[0m in \u001b[0;36m_validate_key\u001b[1;34m(self, key, axis)\u001b[0m\n\u001b[0;32m   1955\u001b[0m             \u001b[1;32mreturn\u001b[0m\u001b[1;33m\u001b[0m\u001b[0m\n\u001b[0;32m   1956\u001b[0m         \u001b[1;32melif\u001b[0m \u001b[0mis_integer\u001b[0m\u001b[1;33m(\u001b[0m\u001b[0mkey\u001b[0m\u001b[1;33m)\u001b[0m\u001b[1;33m:\u001b[0m\u001b[1;33m\u001b[0m\u001b[0m\n\u001b[1;32m-> 1957\u001b[1;33m             \u001b[0mself\u001b[0m\u001b[1;33m.\u001b[0m\u001b[0m_validate_integer\u001b[0m\u001b[1;33m(\u001b[0m\u001b[0mkey\u001b[0m\u001b[1;33m,\u001b[0m \u001b[0maxis\u001b[0m\u001b[1;33m)\u001b[0m\u001b[1;33m\u001b[0m\u001b[0m\n\u001b[0m\u001b[0;32m   1958\u001b[0m         \u001b[1;32melif\u001b[0m \u001b[0misinstance\u001b[0m\u001b[1;33m(\u001b[0m\u001b[0mkey\u001b[0m\u001b[1;33m,\u001b[0m \u001b[0mtuple\u001b[0m\u001b[1;33m)\u001b[0m\u001b[1;33m:\u001b[0m\u001b[1;33m\u001b[0m\u001b[0m\n\u001b[0;32m   1959\u001b[0m             \u001b[1;31m# a tuple should already have been caught by this point\u001b[0m\u001b[1;33m\u001b[0m\u001b[1;33m\u001b[0m\u001b[0m\n",
      "\u001b[1;32mD:\\miniconda\\envs\\mysqljypiter\\lib\\site-packages\\pandas\\core\\indexing.py\u001b[0m in \u001b[0;36m_validate_integer\u001b[1;34m(self, key, axis)\u001b[0m\n\u001b[0;32m   2007\u001b[0m         \u001b[0ml\u001b[0m \u001b[1;33m=\u001b[0m \u001b[0mlen\u001b[0m\u001b[1;33m(\u001b[0m\u001b[0max\u001b[0m\u001b[1;33m)\u001b[0m\u001b[1;33m\u001b[0m\u001b[0m\n\u001b[0;32m   2008\u001b[0m         \u001b[1;32mif\u001b[0m \u001b[0mkey\u001b[0m \u001b[1;33m>=\u001b[0m \u001b[0ml\u001b[0m \u001b[1;32mor\u001b[0m \u001b[0mkey\u001b[0m \u001b[1;33m<\u001b[0m \u001b[1;33m-\u001b[0m\u001b[0ml\u001b[0m\u001b[1;33m:\u001b[0m\u001b[1;33m\u001b[0m\u001b[0m\n\u001b[1;32m-> 2009\u001b[1;33m             \u001b[1;32mraise\u001b[0m \u001b[0mIndexError\u001b[0m\u001b[1;33m(\u001b[0m\u001b[1;34m\"single positional indexer is out-of-bounds\"\u001b[0m\u001b[1;33m)\u001b[0m\u001b[1;33m\u001b[0m\u001b[0m\n\u001b[0m\u001b[0;32m   2010\u001b[0m \u001b[1;33m\u001b[0m\u001b[0m\n\u001b[0;32m   2011\u001b[0m     \u001b[1;32mdef\u001b[0m \u001b[0m_getitem_tuple\u001b[0m\u001b[1;33m(\u001b[0m\u001b[0mself\u001b[0m\u001b[1;33m,\u001b[0m \u001b[0mtup\u001b[0m\u001b[1;33m)\u001b[0m\u001b[1;33m:\u001b[0m\u001b[1;33m\u001b[0m\u001b[0m\n",
      "\u001b[1;31mIndexError\u001b[0m: single positional indexer is out-of-bounds"
     ]
    }
   ],
   "source": [
    " df2 = pd.read_sql_query(\n",
    "    \"select FullNameRu from Minjust2018 limit 10\",conn)\n",
    "    \n",
    "def find_related_companies_by_founders(companies_df, db_conn):\n",
    "    founders=companies_df.iloc[:,1]\n",
    "    founders_list=founders.values.toList()\n",
    "    companiesList=list(map(find_companies_by_founders_string, founders_list)) \n",
    "    return companiesList\n",
    "\n",
    "def find_companies_by_founders_string (founders_string,dbconn):\n",
    "    listFounders= founders_string.split(',')\n",
    "    companiesList=list(map(find_companiesByFounder,founderList))\n",
    "    return companiesList\n",
    "\n",
    "def find_companiesByFounder (founder, db_conn):\n",
    "    df2 = pd.read_sql_query(\n",
    "    \"select FullNameRu from Minjust2018 where Founders like '%\" + founder + \"%' limit 10\", db_conn)\n",
    "    return df2\n",
    "\n",
    "print(find_related_companies_by_founders(df2,conn))\n",
    "\n",
    "   \n",
    "    "
   ]
  },
  {
   "cell_type": "code",
   "execution_count": 71,
   "metadata": {},
   "outputs": [
    {
     "name": "stdout",
     "output_type": "stream",
     "text": [
      "[2, 10, 8, 18]\n"
     ]
    }
   ],
   "source": [
    "def multiple2(n):\n",
    "    return n*2\n",
    "number_list= [1,5,4,9]\n",
    "number_list_multiple= list(map(multiple2,number_list ))\n",
    "print(number_list_multiple)"
   ]
  },
  {
   "cell_type": "code",
   "execution_count": 69,
   "metadata": {},
   "outputs": [
    {
     "name": "stdout",
     "output_type": "stream",
     "text": [
      "11\n"
     ]
    }
   ],
   "source": [
    "print(plus2(9))"
   ]
  },
  {
   "cell_type": "code",
   "execution_count": 68,
   "metadata": {},
   "outputs": [],
   "source": [
    "def plus2(n):\n",
    "    return(n+2)"
   ]
  },
  {
   "cell_type": "code",
   "execution_count": 65,
   "metadata": {},
   "outputs": [],
   "source": [
    "\n"
   ]
  },
  {
   "cell_type": "code",
   "execution_count": 4,
   "metadata": {
    "scrolled": true
   },
   "outputs": [
    {
     "name": "stdout",
     "output_type": "stream",
     "text": [
      "[['Жалал-Абадский филиал открытого акционерного общества \"Казкоммерцбанк Кыргызстан\"'\n",
      "  'None']\n",
      " ['У-е \" Центр спортивной медицины и реаблитации города Ош\" '\n",
      "  'Мэрия города Ош ']\n",
      " ['Жалал-Абадский филиал открытого акционерного общества \"Казкоммерцбанк Кыргызстан\"'\n",
      "  '']\n",
      " ['Крестиьянское хозяйство \"Алтынбек-Эркинбек\"'\n",
      "  'Турдуев Марипбай Маманович']\n",
      " ['ООО \"Турандот\" ' 'Кадырбекова Гулназ Сагындыкова ']\n",
      " ['Общественный фонд \"Кызылтоо-Озгон\"' 'Тешебаев Назирбай']\n",
      " ['ОФ \"TOEFL CENTER\" (Тоэфл центр)'\n",
      "  'Кулева Мария Тимофеевна, Рындина Светлана Сергеевна']\n",
      " ['Сельскохозяйственный кооператив \"Кубанычбек Ата Кубансын\"'\n",
      "  'Балапанов Талант Кубанычбекович, Балапанов Кубанычбек Кукумбаевич, Бейшеналиева Алиакул, Кошалиев Омор Касымович, Балапанов Бакыт Кубанычбекович, Турсалиева Гульбар Ергешовна, Султанова Кылым Джорупбековна']\n",
      " ['Товарищество собственников жилья \"Вербена\" '\n",
      "  'согласно представленного списка']\n",
      " ['Обшественный фонд \\xa0\"Лайф Плюс\" \\xa0' 'Галиева Алтынай Душаевна ']]\n"
     ]
    }
   ],
   "source": [
    "df = pd.read_sql_query(\n",
    "    \"SELECT FullNameRu, Founders FROM Minjust2018 LIMIT 0, 10\",\n",
    "    conn)\n",
    "a=df.values\n",
    "print (a)\n",
    "\n"
   ]
  },
  {
   "cell_type": "code",
   "execution_count": 10,
   "metadata": {},
   "outputs": [
    {
     "name": "stdout",
     "output_type": "stream",
     "text": [
      "connection closed\n"
     ]
    }
   ],
   "source": [
    "conn.close()\n",
    "print(\"connection closed\")"
   ]
  },
  {
   "cell_type": "code",
   "execution_count": 6,
   "metadata": {
    "scrolled": true
   },
   "outputs": [
    {
     "data": {
      "text/html": [
       "<div>\n",
       "<style scoped>\n",
       "    .dataframe tbody tr th:only-of-type {\n",
       "        vertical-align: middle;\n",
       "    }\n",
       "\n",
       "    .dataframe tbody tr th {\n",
       "        vertical-align: top;\n",
       "    }\n",
       "\n",
       "    .dataframe thead th {\n",
       "        text-align: right;\n",
       "    }\n",
       "</style>\n",
       "<table border=\"1\" class=\"dataframe\">\n",
       "  <thead>\n",
       "    <tr style=\"text-align: right;\">\n",
       "      <th></th>\n",
       "      <th>HeadName</th>\n",
       "      <th>Founders</th>\n",
       "      <th>FullNameRu</th>\n",
       "      <th>fullName</th>\n",
       "      <th>inn</th>\n",
       "    </tr>\n",
       "  </thead>\n",
       "  <tbody>\n",
       "    <tr>\n",
       "      <th>0</th>\n",
       "      <td>Орозбаев Талантбек Жалилович</td>\n",
       "      <td></td>\n",
       "      <td>Жалал-Абадский филиал открытого акционерного о...</td>\n",
       "      <td>Джолдошбекова Айсезим Таалайбековна</td>\n",
       "      <td>12112199401001</td>\n",
       "    </tr>\n",
       "    <tr>\n",
       "      <th>1</th>\n",
       "      <td>None</td>\n",
       "      <td></td>\n",
       "      <td>Сельскохозяйственный семеноводческий кооперати...</td>\n",
       "      <td>Джолдошбекова Айсезим Таалайбековна</td>\n",
       "      <td>12112199401001</td>\n",
       "    </tr>\n",
       "    <tr>\n",
       "      <th>2</th>\n",
       "      <td>None</td>\n",
       "      <td></td>\n",
       "      <td>Объединение крестьянских хозяйств \"Кой-Таш\"</td>\n",
       "      <td>Джолдошбекова Айсезим Таалайбековна</td>\n",
       "      <td>12112199401001</td>\n",
       "    </tr>\n",
       "    <tr>\n",
       "      <th>3</th>\n",
       "      <td>Чормопов Мелис Бакасович</td>\n",
       "      <td></td>\n",
       "      <td>Малое предприятие Фирма \"Квадрига\"</td>\n",
       "      <td>Джолдошбекова Айсезим Таалайбековна</td>\n",
       "      <td>12112199401001</td>\n",
       "    </tr>\n",
       "    <tr>\n",
       "      <th>4</th>\n",
       "      <td>Жунусалиев Алтынбек Аданбекович</td>\n",
       "      <td></td>\n",
       "      <td>АОЗТ \"7Ж\" (уведомление о смене руков. от 28.11...</td>\n",
       "      <td>Джолдошбекова Айсезим Таалайбековна</td>\n",
       "      <td>12112199401001</td>\n",
       "    </tr>\n",
       "    <tr>\n",
       "      <th>5</th>\n",
       "      <td>Решетникова Наталья Николаевна</td>\n",
       "      <td></td>\n",
       "      <td>ОсОО \"Кубаныч\"</td>\n",
       "      <td>Джолдошбекова Айсезим Таалайбековна</td>\n",
       "      <td>12112199401001</td>\n",
       "    </tr>\n",
       "    <tr>\n",
       "      <th>6</th>\n",
       "      <td>Аллашукурова Ирина Николаевна</td>\n",
       "      <td></td>\n",
       "      <td>Кыргызско-Российское совместное предприятие \"А...</td>\n",
       "      <td>Джолдошбекова Айсезим Таалайбековна</td>\n",
       "      <td>12112199401001</td>\n",
       "    </tr>\n",
       "    <tr>\n",
       "      <th>7</th>\n",
       "      <td>М.А. Шопоков</td>\n",
       "      <td></td>\n",
       "      <td>Ассоциация крестьянских хозяйств \"Шалта\" (юр. ...</td>\n",
       "      <td>Джолдошбекова Айсезим Таалайбековна</td>\n",
       "      <td>12112199401001</td>\n",
       "    </tr>\n",
       "    <tr>\n",
       "      <th>8</th>\n",
       "      <td>Попов Владимир Михайлович</td>\n",
       "      <td></td>\n",
       "      <td>Закрытое акционерное общество \"ТЕХКОМ\"</td>\n",
       "      <td>Джолдошбекова Айсезим Таалайбековна</td>\n",
       "      <td>12112199401001</td>\n",
       "    </tr>\n",
       "    <tr>\n",
       "      <th>9</th>\n",
       "      <td>Ибраимова Сабыркуль Абдурасуловна</td>\n",
       "      <td></td>\n",
       "      <td>Ысык-Атинское районо.</td>\n",
       "      <td>Джолдошбекова Айсезим Таалайбековна</td>\n",
       "      <td>12112199401001</td>\n",
       "    </tr>\n",
       "  </tbody>\n",
       "</table>\n",
       "</div>"
      ],
      "text/plain": [
       "                            HeadName Founders  \\\n",
       "0       Орозбаев Талантбек Жалилович            \n",
       "1                               None            \n",
       "2                               None            \n",
       "3           Чормопов Мелис Бакасович            \n",
       "4    Жунусалиев Алтынбек Аданбекович            \n",
       "5     Решетникова Наталья Николаевна            \n",
       "6      Аллашукурова Ирина Николаевна            \n",
       "7                       М.А. Шопоков            \n",
       "8          Попов Владимир Михайлович            \n",
       "9  Ибраимова Сабыркуль Абдурасуловна            \n",
       "\n",
       "                                          FullNameRu  \\\n",
       "0  Жалал-Абадский филиал открытого акционерного о...   \n",
       "1  Сельскохозяйственный семеноводческий кооперати...   \n",
       "2        Объединение крестьянских хозяйств \"Кой-Таш\"   \n",
       "3                 Малое предприятие Фирма \"Квадрига\"   \n",
       "4  АОЗТ \"7Ж\" (уведомление о смене руков. от 28.11...   \n",
       "5                                     ОсОО \"Кубаныч\"   \n",
       "6  Кыргызско-Российское совместное предприятие \"А...   \n",
       "7  Ассоциация крестьянских хозяйств \"Шалта\" (юр. ...   \n",
       "8             Закрытое акционерное общество \"ТЕХКОМ\"   \n",
       "9                              Ысык-Атинское районо.   \n",
       "\n",
       "                              fullName             inn  \n",
       "0  Джолдошбекова Айсезим Таалайбековна  12112199401001  \n",
       "1  Джолдошбекова Айсезим Таалайбековна  12112199401001  \n",
       "2  Джолдошбекова Айсезим Таалайбековна  12112199401001  \n",
       "3  Джолдошбекова Айсезим Таалайбековна  12112199401001  \n",
       "4  Джолдошбекова Айсезим Таалайбековна  12112199401001  \n",
       "5  Джолдошбекова Айсезим Таалайбековна  12112199401001  \n",
       "6  Джолдошбекова Айсезим Таалайбековна  12112199401001  \n",
       "7  Джолдошбекова Айсезим Таалайбековна  12112199401001  \n",
       "8  Джолдошбекова Айсезим Таалайбековна  12112199401001  \n",
       "9  Джолдошбекова Айсезим Таалайбековна  12112199401001  "
      ]
     },
     "execution_count": 6,
     "metadata": {},
     "output_type": "execute_result"
    }
   ],
   "source": [
    "df = pd.read_sql_query(\n",
    "    \"select Minjust2018.HeadName, Minjust2018.Founders, Minjust2018.FullNameRu, persons.fullName, persons.inn from persons join Minjust2018 on persons.fullName LIKE  CONCAT('%', Minjust2018.HeadName, '%') or persons.fullName LIKE  CONCAT('%', Minjust2018.Founders,'%') WHERE (persons.inn REGEXP '([1-2][0-9][0-9][0-9][0-9])([1][9][9][7-9])|([2][0][0][0-9])*') limit 10\",\n",
    "    conn)\n",
    "df.tail(10)"
   ]
  },
  {
   "cell_type": "code",
   "execution_count": 16,
   "metadata": {},
   "outputs": [
    {
     "data": {
      "text/html": [
       "<div>\n",
       "<style scoped>\n",
       "    .dataframe tbody tr th:only-of-type {\n",
       "        vertical-align: middle;\n",
       "    }\n",
       "\n",
       "    .dataframe tbody tr th {\n",
       "        vertical-align: top;\n",
       "    }\n",
       "\n",
       "    .dataframe thead th {\n",
       "        text-align: right;\n",
       "    }\n",
       "</style>\n",
       "<table border=\"1\" class=\"dataframe\">\n",
       "  <thead>\n",
       "    <tr style=\"text-align: right;\">\n",
       "      <th></th>\n",
       "      <th>HeadName</th>\n",
       "      <th>Founders</th>\n",
       "      <th>FullNameRu</th>\n",
       "      <th>fullName</th>\n",
       "      <th>inn</th>\n",
       "    </tr>\n",
       "  </thead>\n",
       "  <tbody>\n",
       "    <tr>\n",
       "      <th>0</th>\n",
       "      <td>Орозбаев Талантбек Жалилович</td>\n",
       "      <td></td>\n",
       "      <td>Жалал-Абадский филиал открытого акционерного о...</td>\n",
       "      <td>Иманалиева Айсулуу Таалайбековна</td>\n",
       "      <td>11412199801024</td>\n",
       "    </tr>\n",
       "    <tr>\n",
       "      <th>1</th>\n",
       "      <td>None</td>\n",
       "      <td></td>\n",
       "      <td>Сельскохозяйственный семеноводческий кооперати...</td>\n",
       "      <td>Иманалиева Айсулуу Таалайбековна</td>\n",
       "      <td>11412199801024</td>\n",
       "    </tr>\n",
       "    <tr>\n",
       "      <th>2</th>\n",
       "      <td>None</td>\n",
       "      <td></td>\n",
       "      <td>Объединение крестьянских хозяйств \"Кой-Таш\"</td>\n",
       "      <td>Иманалиева Айсулуу Таалайбековна</td>\n",
       "      <td>11412199801024</td>\n",
       "    </tr>\n",
       "    <tr>\n",
       "      <th>3</th>\n",
       "      <td>Чормопов Мелис Бакасович</td>\n",
       "      <td></td>\n",
       "      <td>Малое предприятие Фирма \"Квадрига\"</td>\n",
       "      <td>Иманалиева Айсулуу Таалайбековна</td>\n",
       "      <td>11412199801024</td>\n",
       "    </tr>\n",
       "    <tr>\n",
       "      <th>4</th>\n",
       "      <td>Жунусалиев Алтынбек Аданбекович</td>\n",
       "      <td></td>\n",
       "      <td>АОЗТ \"7Ж\" (уведомление о смене руков. от 28.11...</td>\n",
       "      <td>Иманалиева Айсулуу Таалайбековна</td>\n",
       "      <td>11412199801024</td>\n",
       "    </tr>\n",
       "    <tr>\n",
       "      <th>5</th>\n",
       "      <td>Решетникова Наталья Николаевна</td>\n",
       "      <td></td>\n",
       "      <td>ОсОО \"Кубаныч\"</td>\n",
       "      <td>Иманалиева Айсулуу Таалайбековна</td>\n",
       "      <td>11412199801024</td>\n",
       "    </tr>\n",
       "    <tr>\n",
       "      <th>6</th>\n",
       "      <td>Аллашукурова Ирина Николаевна</td>\n",
       "      <td></td>\n",
       "      <td>Кыргызско-Российское совместное предприятие \"А...</td>\n",
       "      <td>Иманалиева Айсулуу Таалайбековна</td>\n",
       "      <td>11412199801024</td>\n",
       "    </tr>\n",
       "    <tr>\n",
       "      <th>7</th>\n",
       "      <td>М.А. Шопоков</td>\n",
       "      <td></td>\n",
       "      <td>Ассоциация крестьянских хозяйств \"Шалта\" (юр. ...</td>\n",
       "      <td>Иманалиева Айсулуу Таалайбековна</td>\n",
       "      <td>11412199801024</td>\n",
       "    </tr>\n",
       "    <tr>\n",
       "      <th>8</th>\n",
       "      <td>Попов Владимир Михайлович</td>\n",
       "      <td></td>\n",
       "      <td>Закрытое акционерное общество \"ТЕХКОМ\"</td>\n",
       "      <td>Иманалиева Айсулуу Таалайбековна</td>\n",
       "      <td>11412199801024</td>\n",
       "    </tr>\n",
       "    <tr>\n",
       "      <th>9</th>\n",
       "      <td>Ибраимова Сабыркуль Абдурасуловна</td>\n",
       "      <td></td>\n",
       "      <td>Ысык-Атинское районо.</td>\n",
       "      <td>Иманалиева Айсулуу Таалайбековна</td>\n",
       "      <td>11412199801024</td>\n",
       "    </tr>\n",
       "  </tbody>\n",
       "</table>\n",
       "</div>"
      ],
      "text/plain": [
       "                            HeadName Founders  \\\n",
       "0       Орозбаев Талантбек Жалилович            \n",
       "1                               None            \n",
       "2                               None            \n",
       "3           Чормопов Мелис Бакасович            \n",
       "4    Жунусалиев Алтынбек Аданбекович            \n",
       "5     Решетникова Наталья Николаевна            \n",
       "6      Аллашукурова Ирина Николаевна            \n",
       "7                       М.А. Шопоков            \n",
       "8          Попов Владимир Михайлович            \n",
       "9  Ибраимова Сабыркуль Абдурасуловна            \n",
       "\n",
       "                                          FullNameRu  \\\n",
       "0  Жалал-Абадский филиал открытого акционерного о...   \n",
       "1  Сельскохозяйственный семеноводческий кооперати...   \n",
       "2        Объединение крестьянских хозяйств \"Кой-Таш\"   \n",
       "3                 Малое предприятие Фирма \"Квадрига\"   \n",
       "4  АОЗТ \"7Ж\" (уведомление о смене руков. от 28.11...   \n",
       "5                                     ОсОО \"Кубаныч\"   \n",
       "6  Кыргызско-Российское совместное предприятие \"А...   \n",
       "7  Ассоциация крестьянских хозяйств \"Шалта\" (юр. ...   \n",
       "8             Закрытое акционерное общество \"ТЕХКОМ\"   \n",
       "9                              Ысык-Атинское районо.   \n",
       "\n",
       "                           fullName             inn  \n",
       "0  Иманалиева Айсулуу Таалайбековна  11412199801024  \n",
       "1  Иманалиева Айсулуу Таалайбековна  11412199801024  \n",
       "2  Иманалиева Айсулуу Таалайбековна  11412199801024  \n",
       "3  Иманалиева Айсулуу Таалайбековна  11412199801024  \n",
       "4  Иманалиева Айсулуу Таалайбековна  11412199801024  \n",
       "5  Иманалиева Айсулуу Таалайбековна  11412199801024  \n",
       "6  Иманалиева Айсулуу Таалайбековна  11412199801024  \n",
       "7  Иманалиева Айсулуу Таалайбековна  11412199801024  \n",
       "8  Иманалиева Айсулуу Таалайбековна  11412199801024  \n",
       "9  Иманалиева Айсулуу Таалайбековна  11412199801024  "
      ]
     },
     "execution_count": 16,
     "metadata": {},
     "output_type": "execute_result"
    }
   ],
   "source": [
    "df = pd.read_sql_query(\n",
    "    \"select Minjust2018.HeadName, Minjust2018.Founders, Minjust2018.FullNameRu, persons.fullName, persons.inn from persons join Minjust2018 on persons.fullName LIKE CONCAT('%', Minjust2018.HeadName, '%') or persons.fullName LIKE CONCAT('%', Minjust2018.Founders,'%') WHERE (Year(CURDATE())- SUBSTRING(persons.inn, 6, 4)<21 And (persons.inn like '1%' or persons.inn like '2%')) limit 10\", conn)\n",
    "df.tail(10)"
   ]
  },
  {
   "cell_type": "code",
   "execution_count": 36,
   "metadata": {},
   "outputs": [
    {
     "data": {
      "text/plain": [
       "'Иманалиева Айсулуу Таалайбековна'"
      ]
     },
     "execution_count": 36,
     "metadata": {},
     "output_type": "execute_result"
    }
   ],
   "source": [
    "df = pd.read_sql_query(\n",
    "    \"select Minjust2018.HeadName, Minjust2018.Founders, Minjust2018.FullNameRu, persons.fullName, persons.inn from persons join Minjust2018 on persons.fullName LIKE CONCAT('%', Minjust2018.HeadName, '%') or persons.fullName LIKE CONCAT('%', Minjust2018.Founders,'%') WHERE (Year(CURDATE())- SUBSTRING(persons.inn, 6, 4)<21 And (persons.inn like '1%' or persons.inn like '2%')) limit 10\", conn)\n",
    "df.iloc[2,3]\n",
    "\n"
   ]
  },
  {
   "cell_type": "code",
   "execution_count": 60,
   "metadata": {},
   "outputs": [
    {
     "data": {
      "text/plain": [
       "'Балапанов Талант Кубанычбекович, Балапанов Кубанычбек Кукумбаевич, Бейшеналиева Алиакул, Кошалиев Омор Касымович, Балапанов Бакыт Кубанычбекович, Турсалиева Гульбар Ергешовна, Султанова Кылым Джорупбековна'"
      ]
     },
     "execution_count": 60,
     "metadata": {},
     "output_type": "execute_result"
    }
   ],
   "source": [
    "df = pd.read_sql_query(\n",
    "    \"select Founders, FullNameRu from Minjust2018 limit 100\", conn)\n",
    "df.iloc[7,0]\n",
    "\n"
   ]
  },
  {
   "cell_type": "code",
   "execution_count": 67,
   "metadata": {},
   "outputs": [
    {
     "data": {
      "text/html": [
       "<div>\n",
       "<style scoped>\n",
       "    .dataframe tbody tr th:only-of-type {\n",
       "        vertical-align: middle;\n",
       "    }\n",
       "\n",
       "    .dataframe tbody tr th {\n",
       "        vertical-align: top;\n",
       "    }\n",
       "\n",
       "    .dataframe thead th {\n",
       "        text-align: right;\n",
       "    }\n",
       "</style>\n",
       "<table border=\"1\" class=\"dataframe\">\n",
       "  <thead>\n",
       "    <tr style=\"text-align: right;\">\n",
       "      <th></th>\n",
       "      <th>FullNameRu</th>\n",
       "    </tr>\n",
       "  </thead>\n",
       "  <tbody>\n",
       "    <tr>\n",
       "      <th>0</th>\n",
       "      <td>Сельскохозяйственный кооператив \"Кубанычбек Ат...</td>\n",
       "    </tr>\n",
       "  </tbody>\n",
       "</table>\n",
       "</div>"
      ],
      "text/plain": [
       "                                          FullNameRu\n",
       "0  Сельскохозяйственный кооператив \"Кубанычбек Ат..."
      ]
     },
     "execution_count": 67,
     "metadata": {},
     "output_type": "execute_result"
    }
   ],
   "source": [
    "df = pd.read_sql_query(\n",
    "    \"select Founders, FullNameRu from Minjust2018 limit 10\", conn)\n",
    "founders=df.iloc[7,0]\n",
    "founders_list = founders.split(',')\n",
    "a=founders_list[1]\n",
    "\n",
    "df2 = find_companiesByFounder(a,conn)\n",
    "df2.tail(10)"
   ]
  },
  {
   "cell_type": "markdown",
   "metadata": {},
   "source": [
    "Вывод людей младше 21, имеющих бизнес в КР"
   ]
  },
  {
   "cell_type": "code",
   "execution_count": 22,
   "metadata": {},
   "outputs": [
    {
     "data": {
      "text/html": [
       "<div>\n",
       "<style scoped>\n",
       "    .dataframe tbody tr th:only-of-type {\n",
       "        vertical-align: middle;\n",
       "    }\n",
       "\n",
       "    .dataframe tbody tr th {\n",
       "        vertical-align: top;\n",
       "    }\n",
       "\n",
       "    .dataframe thead th {\n",
       "        text-align: right;\n",
       "    }\n",
       "</style>\n",
       "<table border=\"1\" class=\"dataframe\">\n",
       "  <thead>\n",
       "    <tr style=\"text-align: right;\">\n",
       "      <th></th>\n",
       "      <th>positn</th>\n",
       "      <th>first_name</th>\n",
       "      <th>middle_name</th>\n",
       "      <th>last_name</th>\n",
       "      <th>income_sum</th>\n",
       "      <th>адрес в Болгарии</th>\n",
       "    </tr>\n",
       "  </thead>\n",
       "  <tbody>\n",
       "    <tr>\n",
       "      <th>28</th>\n",
       "      <td>Эксперт</td>\n",
       "      <td>Асель</td>\n",
       "      <td>Омурбековна</td>\n",
       "      <td>Бейшеналиева</td>\n",
       "      <td>596642</td>\n",
       "      <td>( Физическо лице - субект на Булстат) адрес:(с...</td>\n",
       "    </tr>\n",
       "    <tr>\n",
       "      <th>29</th>\n",
       "      <td>Эксперт</td>\n",
       "      <td>Асель</td>\n",
       "      <td>Омурбековна</td>\n",
       "      <td>Бейшеналиева</td>\n",
       "      <td>596642</td>\n",
       "      <td>( Физическо лице - субект на Булстат) адрес:(с...</td>\n",
       "    </tr>\n",
       "    <tr>\n",
       "      <th>30</th>\n",
       "      <td>Заведующий сектором</td>\n",
       "      <td>Жетиген</td>\n",
       "      <td>Жокинович</td>\n",
       "      <td>Бакиров</td>\n",
       "      <td>622686</td>\n",
       "      <td></td>\n",
       "    </tr>\n",
       "    <tr>\n",
       "      <th>31</th>\n",
       "      <td>Заведующий сектором</td>\n",
       "      <td>Жетиген</td>\n",
       "      <td>Жокинович</td>\n",
       "      <td>Бакиров</td>\n",
       "      <td>622686</td>\n",
       "      <td>( Физическо лице - субект на Булстат) адрес:(с...</td>\n",
       "    </tr>\n",
       "    <tr>\n",
       "      <th>32</th>\n",
       "      <td>Инспектор</td>\n",
       "      <td>Амангелди</td>\n",
       "      <td>Сайдимаматович</td>\n",
       "      <td>Бакиров</td>\n",
       "      <td>919689</td>\n",
       "      <td></td>\n",
       "    </tr>\n",
       "    <tr>\n",
       "      <th>33</th>\n",
       "      <td>Инспектор</td>\n",
       "      <td>Амангелди</td>\n",
       "      <td>Сайдимаматович</td>\n",
       "      <td>Бакиров</td>\n",
       "      <td>919689</td>\n",
       "      <td>( Физическо лице - субект на Булстат) адрес:(с...</td>\n",
       "    </tr>\n",
       "    <tr>\n",
       "      <th>34</th>\n",
       "      <td>Руководитель аппарата</td>\n",
       "      <td>Кайратбек</td>\n",
       "      <td>Муратбекович</td>\n",
       "      <td>Асанов</td>\n",
       "      <td>342536</td>\n",
       "      <td>( Физическо лице - субект на Булстат) адрес:(с...</td>\n",
       "    </tr>\n",
       "    <tr>\n",
       "      <th>35</th>\n",
       "      <td>Мэр</td>\n",
       "      <td>Болот</td>\n",
       "      <td>Саякович</td>\n",
       "      <td>Бакиров</td>\n",
       "      <td>368328</td>\n",
       "      <td></td>\n",
       "    </tr>\n",
       "    <tr>\n",
       "      <th>36</th>\n",
       "      <td>Мэр</td>\n",
       "      <td>Болот</td>\n",
       "      <td>Саякович</td>\n",
       "      <td>Бакиров</td>\n",
       "      <td>368328</td>\n",
       "      <td>( Физическо лице - субект на Булстат) адрес:(с...</td>\n",
       "    </tr>\n",
       "    <tr>\n",
       "      <th>37</th>\n",
       "      <td>Пресс-секретарь премьер-министра</td>\n",
       "      <td>Бакытбек</td>\n",
       "      <td>Сарбагышович</td>\n",
       "      <td>Асанов</td>\n",
       "      <td>615570</td>\n",
       "      <td>( Физическо лице - субект на Булстат) адрес:(с...</td>\n",
       "    </tr>\n",
       "  </tbody>\n",
       "</table>\n",
       "</div>"
      ],
      "text/plain": [
       "                              positn first_name     middle_name     last_name  \\\n",
       "28                           Эксперт      Асель     Омурбековна  Бейшеналиева   \n",
       "29                           Эксперт      Асель     Омурбековна  Бейшеналиева   \n",
       "30               Заведующий сектором    Жетиген       Жокинович       Бакиров   \n",
       "31               Заведующий сектором    Жетиген       Жокинович       Бакиров   \n",
       "32                         Инспектор  Амангелди  Сайдимаматович       Бакиров   \n",
       "33                         Инспектор  Амангелди  Сайдимаматович       Бакиров   \n",
       "34             Руководитель аппарата  Кайратбек    Муратбекович        Асанов   \n",
       "35                               Мэр      Болот        Саякович       Бакиров   \n",
       "36                               Мэр      Болот        Саякович       Бакиров   \n",
       "37  Пресс-секретарь премьер-министра   Бакытбек    Сарбагышович        Асанов   \n",
       "\n",
       "    income_sum                                   адрес в Болгарии  \n",
       "28      596642  ( Физическо лице - субект на Булстат) адрес:(с...  \n",
       "29      596642  ( Физическо лице - субект на Булстат) адрес:(с...  \n",
       "30      622686                                                     \n",
       "31      622686  ( Физическо лице - субект на Булстат) адрес:(с...  \n",
       "32      919689                                                     \n",
       "33      919689  ( Физическо лице - субект на Булстат) адрес:(с...  \n",
       "34      342536  ( Физическо лице - субект на Булстат) адрес:(с...  \n",
       "35      368328                                                     \n",
       "36      368328  ( Физическо лице - субект на Булстат) адрес:(с...  \n",
       "37      615570  ( Физическо лице - субект на Булстат) адрес:(с...  "
      ]
     },
     "execution_count": 22,
     "metadata": {},
     "output_type": "execute_result"
    }
   ],
   "source": [
    "df = pd.read_sql_query(\n",
    "    \"SELECT declaration.positn, declaration.first_name,declaration.middle_name,declaration.last_name, declaration.income_sum, bulgarien_prop.adress as 'адрес в Болгарии' from declaration join bulgarien_prop on bulgarien_prop.name_Ru like CONCAT('%', declaration.last_name,'%') where bulgarien_prop.property LIKE 'YES' limit 100\", conn)\n",
    "df.tail(10)"
   ]
  },
  {
   "cell_type": "markdown",
   "metadata": {},
   "source": [
    "Список людей, занимающих должность в правительстве, имеющих имущество в Болгарии\n"
   ]
  }
 ],
 "metadata": {
  "kernelspec": {
   "display_name": "Python 3",
   "language": "python",
   "name": "python3"
  },
  "language_info": {
   "codemirror_mode": {
    "name": "ipython",
    "version": 3
   },
   "file_extension": ".py",
   "mimetype": "text/x-python",
   "name": "python",
   "nbconvert_exporter": "python",
   "pygments_lexer": "ipython3",
   "version": "3.6.5"
  }
 },
 "nbformat": 4,
 "nbformat_minor": 2
}
